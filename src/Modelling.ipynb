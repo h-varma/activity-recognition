{
 "cells": [
  {
   "cell_type": "code",
   "execution_count": 1,
   "metadata": {},
   "outputs": [
    {
     "name": "stderr",
     "output_type": "stream",
     "text": [
      "/anaconda/envs/py35/lib/python3.5/site-packages/h5py/__init__.py:36: FutureWarning: Conversion of the second argument of issubdtype from `float` to `np.floating` is deprecated. In future, it will be treated as `np.float64 == np.dtype(float).type`.\n",
      "  from ._conv import register_converters as _register_converters\n",
      "Using TensorFlow backend.\n"
     ]
    }
   ],
   "source": [
    "%matplotlib inline\n",
    "import pandas as pd\n",
    "import matplotlib.pyplot as plt\n",
    "import numpy as np\n",
    "import datetime\n",
    "import os\n",
    "import glob\n",
    "import sys\n",
    "from utils import *\n",
    "\n",
    "\n",
    "from sklearn.metrics import confusion_matrix\n",
    "from sklearn.utils import shuffle\n",
    "from sklearn.linear_model import LogisticRegression\n",
    "from sklearn.ensemble import RandomForestClassifier\n",
    "from sklearn import svm, metrics\n",
    "\n",
    "\n",
    "import keras\n",
    "from keras import backend as K\n",
    "from functools import partial, update_wrapper\n",
    "from itertools import product\n",
    "import tensorflow as tf\n",
    "from keras.models import Sequential\n",
    "from keras.layers import Dense, Dropout, Activation,Flatten, Reshape, BatchNormalization\n",
    "from keras.layers import LSTM,GRU\n",
    "from sklearn.preprocessing import MinMaxScaler\n",
    "from keras.preprocessing import sequence\n",
    "from sklearn.metrics import mean_squared_error\n",
    "from keras.callbacks import Callback\n",
    "from keras.layers import Conv1D, MaxPooling1D, GlobalAveragePooling1D, Conv2D, AveragePooling1D, MaxPooling2D\n",
    "from keras.models import Model\n",
    "from keras.callbacks import EarlyStopping, ModelCheckpoint\n",
    "from keras.optimizers import Adam\n",
    "from keras.utils.vis_utils import plot_model\n",
    "from keras.utils import multi_gpu_model, np_utils\n",
    "\n",
    "\n",
    "sns.set(style=\"darkgrid\")\n",
    "sys.path.append(\"../../dsmuc/\")\n",
    "import dsmuc.io as io\n",
    "import dsmuc.preprocessing as pp\n",
    "import dsmuc.features as ff\n",
    "import dsmuc.custom as cs"
   ]
  },
  {
   "cell_type": "markdown",
   "metadata": {},
   "source": [
    "## Inputs"
   ]
  },
  {
   "cell_type": "code",
   "execution_count": 2,
   "metadata": {},
   "outputs": [],
   "source": [
    "raw_windows_path = \"/home/ahmet/notebooks/data/G9_data/Raw/snippets/\"\n",
    "processed_file_path = \"/home/ahmet/notebooks/data/G9_data/processed.csv\""
   ]
  },
  {
   "cell_type": "code",
   "execution_count": 3,
   "metadata": {},
   "outputs": [],
   "source": [
    "columns = ['accX', 'accY', 'accZ', 'gyroX', 'gyroY', 'gyroZ']"
   ]
  },
  {
   "cell_type": "code",
   "execution_count": 4,
   "metadata": {},
   "outputs": [
    {
     "name": "stdout",
     "output_type": "stream",
     "text": [
      "Found 34470 windows\n"
     ]
    }
   ],
   "source": [
    "win_paths = glob.glob(raw_windows_path+'*/*.csv')\n",
    "print(\"Found {} windows\".format(len(win_paths)))"
   ]
  },
  {
   "cell_type": "code",
   "execution_count": 5,
   "metadata": {},
   "outputs": [
    {
     "name": "stdout",
     "output_type": "stream",
     "text": [
      "CPU times: user 45 s, sys: 1.7 s, total: 46.7 s\n",
      "Wall time: 46.7 s\n"
     ]
    }
   ],
   "source": [
    "%%time\n",
    "win_list = [pd.read_csv(win_paths[i], index_col='date', parse_dates=True) for i in range(len(win_paths))]"
   ]
  },
  {
   "cell_type": "code",
   "execution_count": 6,
   "metadata": {},
   "outputs": [
    {
     "data": {
      "text/plain": [
       "34470"
      ]
     },
     "execution_count": 6,
     "metadata": {},
     "output_type": "execute_result"
    }
   ],
   "source": [
    "len(win_list)"
   ]
  },
  {
   "cell_type": "code",
   "execution_count": 7,
   "metadata": {},
   "outputs": [
    {
     "data": {
      "text/html": [
       "<div>\n",
       "<style scoped>\n",
       "    .dataframe tbody tr th:only-of-type {\n",
       "        vertical-align: middle;\n",
       "    }\n",
       "\n",
       "    .dataframe tbody tr th {\n",
       "        vertical-align: top;\n",
       "    }\n",
       "\n",
       "    .dataframe thead th {\n",
       "        text-align: right;\n",
       "    }\n",
       "</style>\n",
       "<table border=\"1\" class=\"dataframe\">\n",
       "  <thead>\n",
       "    <tr style=\"text-align: right;\">\n",
       "      <th></th>\n",
       "      <th>accX</th>\n",
       "      <th>accY</th>\n",
       "      <th>accZ</th>\n",
       "      <th>gyroX</th>\n",
       "      <th>gyroY</th>\n",
       "      <th>gyroZ</th>\n",
       "      <th>subject_id</th>\n",
       "      <th>label</th>\n",
       "    </tr>\n",
       "    <tr>\n",
       "      <th>date</th>\n",
       "      <th></th>\n",
       "      <th></th>\n",
       "      <th></th>\n",
       "      <th></th>\n",
       "      <th></th>\n",
       "      <th></th>\n",
       "      <th></th>\n",
       "      <th></th>\n",
       "    </tr>\n",
       "  </thead>\n",
       "  <tbody>\n",
       "    <tr>\n",
       "      <th>2017-12-20 07:21:47.030</th>\n",
       "      <td>-9.797073</td>\n",
       "      <td>-2.552219</td>\n",
       "      <td>0.057461</td>\n",
       "      <td>0.030651</td>\n",
       "      <td>0.086162</td>\n",
       "      <td>0.327219</td>\n",
       "      <td>11</td>\n",
       "      <td>5</td>\n",
       "    </tr>\n",
       "    <tr>\n",
       "      <th>2017-12-20 07:21:47.052</th>\n",
       "      <td>-9.797073</td>\n",
       "      <td>-2.533065</td>\n",
       "      <td>0.071826</td>\n",
       "      <td>0.001889</td>\n",
       "      <td>0.083498</td>\n",
       "      <td>0.255847</td>\n",
       "      <td>11</td>\n",
       "      <td>5</td>\n",
       "    </tr>\n",
       "    <tr>\n",
       "      <th>2017-12-20 07:21:47.076</th>\n",
       "      <td>-9.619903</td>\n",
       "      <td>-2.542642</td>\n",
       "      <td>0.167594</td>\n",
       "      <td>-0.018883</td>\n",
       "      <td>0.077107</td>\n",
       "      <td>0.180213</td>\n",
       "      <td>11</td>\n",
       "      <td>5</td>\n",
       "    </tr>\n",
       "    <tr>\n",
       "      <th>2017-12-20 07:21:47.093</th>\n",
       "      <td>-9.543288</td>\n",
       "      <td>-2.537854</td>\n",
       "      <td>0.177171</td>\n",
       "      <td>-0.023677</td>\n",
       "      <td>0.069650</td>\n",
       "      <td>0.108307</td>\n",
       "      <td>11</td>\n",
       "      <td>5</td>\n",
       "    </tr>\n",
       "    <tr>\n",
       "      <th>2017-12-20 07:21:47.111</th>\n",
       "      <td>-9.504981</td>\n",
       "      <td>-2.523489</td>\n",
       "      <td>0.215478</td>\n",
       "      <td>-0.005568</td>\n",
       "      <td>0.063258</td>\n",
       "      <td>0.039598</td>\n",
       "      <td>11</td>\n",
       "      <td>5</td>\n",
       "    </tr>\n",
       "  </tbody>\n",
       "</table>\n",
       "</div>"
      ],
      "text/plain": [
       "                             accX      accY      accZ     gyroX     gyroY  \\\n",
       "date                                                                        \n",
       "2017-12-20 07:21:47.030 -9.797073 -2.552219  0.057461  0.030651  0.086162   \n",
       "2017-12-20 07:21:47.052 -9.797073 -2.533065  0.071826  0.001889  0.083498   \n",
       "2017-12-20 07:21:47.076 -9.619903 -2.542642  0.167594 -0.018883  0.077107   \n",
       "2017-12-20 07:21:47.093 -9.543288 -2.537854  0.177171 -0.023677  0.069650   \n",
       "2017-12-20 07:21:47.111 -9.504981 -2.523489  0.215478 -0.005568  0.063258   \n",
       "\n",
       "                            gyroZ  subject_id  label  \n",
       "date                                                  \n",
       "2017-12-20 07:21:47.030  0.327219          11      5  \n",
       "2017-12-20 07:21:47.052  0.255847          11      5  \n",
       "2017-12-20 07:21:47.076  0.180213          11      5  \n",
       "2017-12-20 07:21:47.093  0.108307          11      5  \n",
       "2017-12-20 07:21:47.111  0.039598          11      5  "
      ]
     },
     "execution_count": 7,
     "metadata": {},
     "output_type": "execute_result"
    }
   ],
   "source": [
    "win_list[1].head()"
   ]
  },
  {
   "cell_type": "markdown",
   "metadata": {},
   "source": [
    "### Check Frequency of the watch"
   ]
  },
  {
   "cell_type": "code",
   "execution_count": 55,
   "metadata": {},
   "outputs": [],
   "source": [
    "df = win_list[0]"
   ]
  },
  {
   "cell_type": "code",
   "execution_count": 56,
   "metadata": {},
   "outputs": [],
   "source": [
    "df['date'] = df.index\n",
    "time_delta = (df['date'].diff(1).values/1000000).astype(float)[1:]"
   ]
  },
  {
   "cell_type": "code",
   "execution_count": 57,
   "metadata": {},
   "outputs": [
    {
     "data": {
      "text/plain": [
       "21.387096774193548"
      ]
     },
     "execution_count": 57,
     "metadata": {},
     "output_type": "execute_result"
    }
   ],
   "source": [
    "time_delta.mean()"
   ]
  },
  {
   "cell_type": "code",
   "execution_count": 58,
   "metadata": {},
   "outputs": [
    {
     "data": {
      "text/plain": [
       "[<matplotlib.lines.Line2D at 0x7fc9e64072e8>]"
      ]
     },
     "execution_count": 58,
     "metadata": {},
     "output_type": "execute_result"
    },
    {
     "data": {
      "image/png": "[encoded data removed]",
      "text/plain": [
       "<matplotlib.figure.Figure at 0x7fc9e63d4e48>"
      ]
     },
     "metadata": {},
     "output_type": "display_data"
    }
   ],
   "source": [
    "plt.plot(time_delta)"
   ]
  },
  {
   "cell_type": "code",
   "execution_count": 79,
   "metadata": {},
   "outputs": [
    {
     "data": {
      "text/plain": [
       "<matplotlib.legend.Legend at 0x7fc9e2342048>"
      ]
     },
     "execution_count": 79,
     "metadata": {},
     "output_type": "execute_result"
    },
    {
     "data": {
      "image/png": "[encoded data removed]",
      "text/plain": [
       "<matplotlib.figure.Figure at 0x7fc9e2352c50>"
      ]
     },
     "metadata": {},
     "output_type": "display_data"
    }
   ],
   "source": [
    "plt.plot(pd.read_csv('/home/ahmet/notebooks/data/G9_data/Raw/snippets/walking/10_10.csv', index_col='date', parse_dates=True)[columns])\n",
    "plt.legend(columns)"
   ]
  },
  {
   "cell_type": "code",
   "execution_count": 87,
   "metadata": {},
   "outputs": [
    {
     "data": {
      "text/plain": [
       "(98, 6)"
      ]
     },
     "execution_count": 87,
     "metadata": {},
     "output_type": "execute_result"
    }
   ],
   "source": [
    "a = pd.read_csv('/home/ahmet/notebooks/data/G9_data/Raw/snippets/walking/10_10.csv', index_col='date', parse_dates=True)[columns]\n",
    "a.shape"
   ]
  },
  {
   "cell_type": "code",
   "execution_count": 80,
   "metadata": {},
   "outputs": [],
   "source": [
    "def get_raw(win_list):\n",
    "    # Get data in raw format for models\n",
    "    \n",
    "    win_len = len(win_list)\n",
    "    X , y , s=[], [], []\n",
    "    index = 0\n",
    "    for win in win_list:\n",
    "        # Append data, label and subject id \n",
    "        X.append(win[columns].values)\n",
    "        y.append(win['label'][0])\n",
    "        s.append(win['subject_id'][0])\n",
    "        index += 1\n",
    "        if index%200 ==0:\n",
    "            print(index,\"of windows out of \", len(win_list))\n",
    "    return np.array(X), np.array(y).astype(int), np.array(s).astype(int)\n",
    "\n",
    "def get_processed(processed_file_path = None, win_list = None):\n",
    "    if processed_file_path:\n",
    "        df = pd.read_csv(processed_file_path, delimiter=',', decimal=\".\",header=[0,1])\n",
    "        \n",
    "    elif win_list:  \n",
    "        print(\"This will take some time ~5 mins\")\n",
    "        i = 0\n",
    "        print(\"indexing windows\")\n",
    "        for win in win_list:\n",
    "            i += 1\n",
    "            win['win_index'] = i\n",
    "        df_win = pd.concat(win_list)\n",
    "        ff.interested_cols = [ 'accX', 'accY', 'accZ', 'gyroX','gyroY', 'gyroZ', 'win_index']\n",
    "        feature_list = ['aoa','ate','apf','rms','std','minimax', 'energy','min','max']\n",
    "        preserved_features = ['start','subject_id','label']\n",
    "\n",
    "        df = ff.extract_features(df_win, feature_list=feature_list , preserved_features=preserved_features)\n",
    "\n",
    "    else:\n",
    "        raise(ValueError(\"Please provide a processed file path or windows list\"))\n",
    "    \n",
    "    df.dropna(axis=0, how='any', inplace=True)\n",
    "    X = df[df.columns[:-3]].values\n",
    "    y = df['label'].astype(int).values\n",
    "    s = df['subject_id'].astype(int).values\n",
    "    return X, y, s , df\n",
    "    "
   ]
  },
  {
   "cell_type": "code",
   "execution_count": 81,
   "metadata": {
    "scrolled": true
   },
   "outputs": [
    {
     "name": "stdout",
     "output_type": "stream",
     "text": [
      "200 of windows out of  34470\n",
      "400 of windows out of  34470\n",
      "600 of windows out of  34470\n",
      "800 of windows out of  34470\n",
      "1000 of windows out of  34470\n",
      "1200 of windows out of  34470\n",
      "1400 of windows out of  34470\n",
      "1600 of windows out of  34470\n",
      "1800 of windows out of  34470\n",
      "2000 of windows out of  34470\n",
      "2200 of windows out of  34470\n",
      "2400 of windows out of  34470\n",
      "2600 of windows out of  34470\n",
      "2800 of windows out of  34470\n",
      "3000 of windows out of  34470\n",
      "3200 of windows out of  34470\n",
      "3400 of windows out of  34470\n",
      "3600 of windows out of  34470\n",
      "3800 of windows out of  34470\n",
      "4000 of windows out of  34470\n",
      "4200 of windows out of  34470\n",
      "4400 of windows out of  34470\n",
      "4600 of windows out of  34470\n",
      "4800 of windows out of  34470\n",
      "5000 of windows out of  34470\n",
      "5200 of windows out of  34470\n",
      "5400 of windows out of  34470\n",
      "5600 of windows out of  34470\n",
      "5800 of windows out of  34470\n",
      "6000 of windows out of  34470\n",
      "6200 of windows out of  34470\n",
      "6400 of windows out of  34470\n",
      "6600 of windows out of  34470\n",
      "6800 of windows out of  34470\n",
      "7000 of windows out of  34470\n",
      "7200 of windows out of  34470\n",
      "7400 of windows out of  34470\n",
      "7600 of windows out of  34470\n",
      "7800 of windows out of  34470\n",
      "8000 of windows out of  34470\n",
      "8200 of windows out of  34470\n",
      "8400 of windows out of  34470\n",
      "8600 of windows out of  34470\n",
      "8800 of windows out of  34470\n",
      "9000 of windows out of  34470\n",
      "9200 of windows out of  34470\n",
      "9400 of windows out of  34470\n",
      "9600 of windows out of  34470\n",
      "9800 of windows out of  34470\n",
      "10000 of windows out of  34470\n",
      "10200 of windows out of  34470\n",
      "10400 of windows out of  34470\n",
      "10600 of windows out of  34470\n",
      "10800 of windows out of  34470\n",
      "11000 of windows out of  34470\n",
      "11200 of windows out of  34470\n",
      "11400 of windows out of  34470\n",
      "11600 of windows out of  34470\n",
      "11800 of windows out of  34470\n",
      "12000 of windows out of  34470\n",
      "12200 of windows out of  34470\n",
      "12400 of windows out of  34470\n",
      "12600 of windows out of  34470\n",
      "12800 of windows out of  34470\n",
      "13000 of windows out of  34470\n",
      "13200 of windows out of  34470\n",
      "13400 of windows out of  34470\n",
      "13600 of windows out of  34470\n",
      "13800 of windows out of  34470\n",
      "14000 of windows out of  34470\n",
      "14200 of windows out of  34470\n",
      "14400 of windows out of  34470\n",
      "14600 of windows out of  34470\n",
      "14800 of windows out of  34470\n",
      "15000 of windows out of  34470\n",
      "15200 of windows out of  34470\n",
      "15400 of windows out of  34470\n",
      "15600 of windows out of  34470\n",
      "15800 of windows out of  34470\n",
      "16000 of windows out of  34470\n",
      "16200 of windows out of  34470\n",
      "16400 of windows out of  34470\n",
      "16600 of windows out of  34470\n",
      "16800 of windows out of  34470\n",
      "17000 of windows out of  34470\n",
      "17200 of windows out of  34470\n",
      "17400 of windows out of  34470\n",
      "17600 of windows out of  34470\n",
      "17800 of windows out of  34470\n",
      "18000 of windows out of  34470\n",
      "18200 of windows out of  34470\n",
      "18400 of windows out of  34470\n",
      "18600 of windows out of  34470\n",
      "18800 of windows out of  34470\n",
      "19000 of windows out of  34470\n",
      "19200 of windows out of  34470\n",
      "19400 of windows out of  34470\n",
      "19600 of windows out of  34470\n",
      "19800 of windows out of  34470\n",
      "20000 of windows out of  34470\n",
      "20200 of windows out of  34470\n",
      "20400 of windows out of  34470\n",
      "20600 of windows out of  34470\n",
      "20800 of windows out of  34470\n",
      "21000 of windows out of  34470\n",
      "21200 of windows out of  34470\n",
      "21400 of windows out of  34470\n",
      "21600 of windows out of  34470\n",
      "21800 of windows out of  34470\n",
      "22000 of windows out of  34470\n",
      "22200 of windows out of  34470\n",
      "22400 of windows out of  34470\n",
      "22600 of windows out of  34470\n",
      "22800 of windows out of  34470\n",
      "23000 of windows out of  34470\n",
      "23200 of windows out of  34470\n",
      "23400 of windows out of  34470\n",
      "23600 of windows out of  34470\n",
      "23800 of windows out of  34470\n",
      "24000 of windows out of  34470\n",
      "24200 of windows out of  34470\n",
      "24400 of windows out of  34470\n",
      "24600 of windows out of  34470\n",
      "24800 of windows out of  34470\n",
      "25000 of windows out of  34470\n",
      "25200 of windows out of  34470\n",
      "25400 of windows out of  34470\n",
      "25600 of windows out of  34470\n",
      "25800 of windows out of  34470\n",
      "26000 of windows out of  34470\n",
      "26200 of windows out of  34470\n",
      "26400 of windows out of  34470\n",
      "26600 of windows out of  34470\n",
      "26800 of windows out of  34470\n",
      "27000 of windows out of  34470\n",
      "27200 of windows out of  34470\n",
      "27400 of windows out of  34470\n",
      "27600 of windows out of  34470\n",
      "27800 of windows out of  34470\n",
      "28000 of windows out of  34470\n",
      "28200 of windows out of  34470\n",
      "28400 of windows out of  34470\n",
      "28600 of windows out of  34470\n",
      "28800 of windows out of  34470\n",
      "29000 of windows out of  34470\n",
      "29200 of windows out of  34470\n",
      "29400 of windows out of  34470\n",
      "29600 of windows out of  34470\n",
      "29800 of windows out of  34470\n",
      "30000 of windows out of  34470\n",
      "30200 of windows out of  34470\n",
      "30400 of windows out of  34470\n",
      "30600 of windows out of  34470\n",
      "30800 of windows out of  34470\n",
      "31000 of windows out of  34470\n",
      "31200 of windows out of  34470\n",
      "31400 of windows out of  34470\n",
      "31600 of windows out of  34470\n",
      "31800 of windows out of  34470\n",
      "32000 of windows out of  34470\n",
      "32200 of windows out of  34470\n",
      "32400 of windows out of  34470\n",
      "32600 of windows out of  34470\n",
      "32800 of windows out of  34470\n",
      "33000 of windows out of  34470\n",
      "33200 of windows out of  34470\n",
      "33400 of windows out of  34470\n",
      "33600 of windows out of  34470\n",
      "33800 of windows out of  34470\n",
      "34000 of windows out of  34470\n",
      "34200 of windows out of  34470\n",
      "34400 of windows out of  34470\n"
     ]
    }
   ],
   "source": [
    "X_raw, y_raw, s_raw = get_raw(win_list)"
   ]
  },
  {
   "cell_type": "code",
   "execution_count": 82,
   "metadata": {},
   "outputs": [],
   "source": [
    "X_prep, y_prep, s_prep, df = get_processed(processed_file_path=processed_file_path)"
   ]
  },
  {
   "cell_type": "code",
   "execution_count": 83,
   "metadata": {},
   "outputs": [],
   "source": [
    "u,c = np.unique(y_prep, return_counts=True)\n",
    "labels = np.array(['walking','walking upstairs','walking downstairs','sitting','standing','lying'])\n",
    "data = pd.DataFrame([labels[u-1],c]).transpose()\n",
    "data.columns = ['class', 'counts']"
   ]
  },
  {
   "cell_type": "code",
   "execution_count": 84,
   "metadata": {},
   "outputs": [
    {
     "data": {
      "text/html": [
       "<div>\n",
       "<style scoped>\n",
       "    .dataframe tbody tr th:only-of-type {\n",
       "        vertical-align: middle;\n",
       "    }\n",
       "\n",
       "    .dataframe tbody tr th {\n",
       "        vertical-align: top;\n",
       "    }\n",
       "\n",
       "    .dataframe thead th {\n",
       "        text-align: right;\n",
       "    }\n",
       "</style>\n",
       "<table border=\"1\" class=\"dataframe\">\n",
       "  <thead>\n",
       "    <tr style=\"text-align: right;\">\n",
       "      <th></th>\n",
       "      <th>class</th>\n",
       "      <th>counts</th>\n",
       "    </tr>\n",
       "  </thead>\n",
       "  <tbody>\n",
       "    <tr>\n",
       "      <th>0</th>\n",
       "      <td>walking</td>\n",
       "      <td>3217</td>\n",
       "    </tr>\n",
       "    <tr>\n",
       "      <th>1</th>\n",
       "      <td>walking upstairs</td>\n",
       "      <td>4069</td>\n",
       "    </tr>\n",
       "    <tr>\n",
       "      <th>2</th>\n",
       "      <td>walking downstairs</td>\n",
       "      <td>3926</td>\n",
       "    </tr>\n",
       "    <tr>\n",
       "      <th>3</th>\n",
       "      <td>sitting</td>\n",
       "      <td>8978</td>\n",
       "    </tr>\n",
       "    <tr>\n",
       "      <th>4</th>\n",
       "      <td>standing</td>\n",
       "      <td>4299</td>\n",
       "    </tr>\n",
       "    <tr>\n",
       "      <th>5</th>\n",
       "      <td>lying</td>\n",
       "      <td>4932</td>\n",
       "    </tr>\n",
       "  </tbody>\n",
       "</table>\n",
       "</div>"
      ],
      "text/plain": [
       "                class counts\n",
       "0             walking   3217\n",
       "1    walking upstairs   4069\n",
       "2  walking downstairs   3926\n",
       "3             sitting   8978\n",
       "4            standing   4299\n",
       "5               lying   4932"
      ]
     },
     "execution_count": 84,
     "metadata": {},
     "output_type": "execute_result"
    }
   ],
   "source": [
    "data"
   ]
  },
  {
   "cell_type": "markdown",
   "metadata": {},
   "source": [
    "## CNN"
   ]
  },
  {
   "cell_type": "code",
   "execution_count": 118,
   "metadata": {},
   "outputs": [],
   "source": [
    "def CNN1():\n",
    "    # 77% accuracy\n",
    "    model = Sequential()\n",
    "    model.add(Conv1D(8,\n",
    "                    64,\n",
    "                     input_shape=(timesteps,1),\n",
    "                     padding='valid',\n",
    "                     strides=1))\n",
    "    model.add(BatchNormalization())\n",
    "    model.add(Activation('relu'))\n",
    "    model.add(MaxPooling1D(pool_size=2))\n",
    "    model.add(Conv1D(16,\n",
    "                    16,\n",
    "                     padding='valid',\n",
    "                     strides=1))\n",
    "    model.add(BatchNormalization())\n",
    "    model.add(Activation('relu'))\n",
    "    model.add(MaxPooling1D(pool_size = 2))\n",
    "    model.add(Conv1D(64,\n",
    "                    8,\n",
    "                     padding='valid',\n",
    "                     strides=1))\n",
    "    model.add(BatchNormalization())\n",
    "    model.add(Activation('relu'))\n",
    "    model.add(MaxPooling1D(pool_size = 2))\n",
    "    model.add(Conv1D(128,\n",
    "                    4,\n",
    "                     padding='valid',\n",
    "                     strides=1))\n",
    "    model.add(BatchNormalization())\n",
    "    model.add(Activation('relu'))\n",
    "    model.add(MaxPooling1D(pool_size = 2))\n",
    "    model.add(Conv1D(256,\n",
    "                    2,\n",
    "                     padding='valid',\n",
    "                     strides=1))\n",
    "    model.add(BatchNormalization())\n",
    "    model.add(Activation('relu'))\n",
    "    model.add(MaxPooling1D(pool_size = 2))\n",
    "    model.add(Flatten())\n",
    "    model.add(Dense(64,activation='relu'))\n",
    "    model.add(Dropout(0.5))\n",
    "    model.add(Dense(64,activation='relu'))\n",
    "    model.add(Dense(n_classes, activation='softmax'))\n",
    "    model.summary()\n",
    "    \n",
    "    return model\n",
    "\n",
    "def CNN2():\n",
    "    # 77% accuracy\n",
    "    model = Sequential()\n",
    "    model.add(Conv2D(8,\n",
    "                    (65,6),\n",
    "                     input_shape=(timesteps,6,1),\n",
    "                     padding='same',\n",
    "                     strides = (1,1)\n",
    "                    ))\n",
    "    model.add(BatchNormalization())\n",
    "    model.add(Activation('relu'))\n",
    "    model.add(MaxPooling2D(pool_size=(4,1)))\n",
    "    model.add(Conv2D(16,\n",
    "                    (33,3),\n",
    "                     padding='same',\n",
    "                     strides=(1,1)))\n",
    "    model.add(BatchNormalization())\n",
    "    model.add(Activation('relu'))\n",
    "    model.add(MaxPooling2D(pool_size=(3,1)))\n",
    "    model.add(Conv2D(32,\n",
    "                    (5,3),\n",
    "                     padding='valid',\n",
    "                     strides=1))\n",
    "    model.add(BatchNormalization())\n",
    "    model.add(Activation('relu'))\n",
    "    model.add(MaxPooling2D(pool_size=(3,1)))\n",
    "    model.add(Flatten())\n",
    "    model.add(Dense(128,activation='relu'))\n",
    "    model.add(Dropout(0.5))\n",
    "    model.add(Dense(128,activation='relu'))\n",
    "    model.add(Dense(n_classes, activation='softmax'))\n",
    "    model.summary()\n",
    "    \n",
    "    return model"
   ]
  },
  {
   "cell_type": "markdown",
   "metadata": {},
   "source": [
    "## RNN"
   ]
  },
  {
   "cell_type": "code",
   "execution_count": 95,
   "metadata": {},
   "outputs": [],
   "source": [
    "def RNN1():\n",
    "    # 85% accuracy\n",
    "    model = Sequential()\n",
    "    model.add(Conv1D(8,\n",
    "                    64,\n",
    "                     input_shape=(timesteps,1),\n",
    "                     padding='valid',\n",
    "                     activation='relu',\n",
    "                     strides=1))\n",
    "    model.add(MaxPooling1D(pool_size=2))\n",
    "    model.add(Conv1D(16,\n",
    "                    16,\n",
    "                     padding='valid',\n",
    "                     activation='relu',\n",
    "                     strides=1))\n",
    "    model.add(MaxPooling1D(pool_size = 2))\n",
    "    model.add(Conv1D(64,\n",
    "                    8,\n",
    "                     padding='valid',\n",
    "                     activation='relu',\n",
    "                     strides=1))\n",
    "    model.add(MaxPooling1D(pool_size = 2))\n",
    "    model.add(Conv1D(128,\n",
    "                    4,\n",
    "                     padding='valid',\n",
    "                     activation='relu',\n",
    "                     strides=1))\n",
    "    model.add(MaxPooling1D(pool_size = 2))\n",
    "    model.add(LSTM(64))\n",
    "    model.add(Dense(128, activation='relu'))\n",
    "    model.add(Dropout(0.5))\n",
    "    model.add(Dense(128, activation='relu'))\n",
    "    model.add(Dropout(0.5))\n",
    "    model.add(Dense(n_classes, activation='softmax'))\n",
    "    model.summary()\n",
    "    \n",
    "    return model\n",
    "def RNN2():\n",
    "    # 85% accuracy\n",
    "    model = Sequential()\n",
    "    model.add(Conv2D(8,\n",
    "                    (64,3),\n",
    "                     input_shape=(timesteps,6,1),\n",
    "                     padding='valid',\n",
    "                     activation='relu'))\n",
    "    model.add(MaxPooling2D(pool_size=(4,1)))\n",
    "    model.add(Conv2D(16,\n",
    "                    (16,3),\n",
    "                     padding='valid',\n",
    "                     activation='relu',\n",
    "                     strides=1))\n",
    "    model.add(MaxPooling2D(pool_size=(1,2)))\n",
    "    model.add(Reshape(target_shape=(1,16)))   \n",
    "    model.add(LSTM(64))\n",
    "    model.add(Dense(n_classes, activation='softmax'))\n",
    "    model.summary()\n",
    "    \n",
    "    return model"
   ]
  },
  {
   "cell_type": "markdown",
   "metadata": {},
   "source": [
    "## MLP"
   ]
  },
  {
   "cell_type": "code",
   "execution_count": 96,
   "metadata": {},
   "outputs": [],
   "source": [
    "def MLP():\n",
    "    model = Sequential()\n",
    "    model.add(Dense(512, input_shape =(timesteps,)))\n",
    "    model.add(Dense(512,activation='relu'))\n",
    "    model.add(Dense(512, activation='relu'))\n",
    "    model.add(Dense(512, activation='relu'))\n",
    "    model.add(Dense(256))\n",
    "    model.add(Dense(256))\n",
    "    model.add(Dense(32))\n",
    "    model.add(Dense(n_classes, activation='softmax'))\n",
    "\n",
    "    model.summary()\n",
    "    return model"
   ]
  },
  {
   "cell_type": "code",
   "execution_count": 134,
   "metadata": {},
   "outputs": [],
   "source": [
    "# Custom loss function with costs\n",
    "\n",
    "def w_categorical_crossentropy(y_true, y_pred):\n",
    "    weights = np.ones((6,6))\n",
    "    weights[5, 3] = 5.0 # Predicting  class 5 as 3 will be punished \n",
    "    \n",
    "    nb_cl = weights.shape[1]#len(weights[0,:])\n",
    "    y_pred = K.cast(y_pred, K.floatx())\n",
    "    y_pred_max = K.max(y_pred, axis=1)#returns maximum value along an axis in a tensor\n",
    "    y_pred_max = K.reshape(y_pred_max, (K.shape(y_pred)[0], 1))\n",
    "    y_pred_max_mat = K.cast(K.equal(y_pred, y_pred_max), K.floatx())\n",
    "#     weights = K.cast(weights, K.floatx())\n",
    "#     y_true = K.cast(y_true, K.floatx())\n",
    "    final_mask = K.zeros_like(y_pred[:, 0])\n",
    "#     print(y_pred_max_mat, weights, y_true)\n",
    "    for c_p, c_t in product(range(nb_cl), range(nb_cl)):\n",
    "        final_mask += (weights[c_t, c_p] *y_pred_max_mat[:, c_p]*y_true[:, c_t])\n",
    "    #ypred_tensor=K.constant(y_pred,dtype=K.set_floatx('float32'))\n",
    "    #ytrue_tensor=K.constant(y_true,dtype=K.set_floatx('float32'))\n",
    "    return K.cast(K.categorical_crossentropy(y_true,y_pred) * final_mask, K.floatx())"
   ]
  },
  {
   "cell_type": "code",
   "execution_count": 135,
   "metadata": {},
   "outputs": [],
   "source": [
    "os.environ[\"CUDA_VISIBLE_DEVICES\"] = \"0\""
   ]
  },
  {
   "cell_type": "code",
   "execution_count": 144,
   "metadata": {
    "scrolled": true
   },
   "outputs": [
    {
     "name": "stdout",
     "output_type": "stream",
     "text": [
      "=====================> 1\n",
      "Model tested on subjects with no :  [1111 2222]\n",
      "Test set and training set proportion :  1.0\n",
      "_________________________________________________________________\n",
      "Layer (type)                 Output Shape              Param #   \n",
      "=================================================================\n",
      "conv1d_296 (Conv1D)          (None, 537, 8)            520       \n",
      "_________________________________________________________________\n",
      "batch_normalization_311 (Bat (None, 537, 8)            32        \n",
      "_________________________________________________________________\n",
      "activation_311 (Activation)  (None, 537, 8)            0         \n",
      "_________________________________________________________________\n",
      "max_pooling1d_296 (MaxPoolin (None, 268, 8)            0         \n",
      "_________________________________________________________________\n",
      "conv1d_297 (Conv1D)          (None, 253, 16)           2064      \n",
      "_________________________________________________________________\n",
      "batch_normalization_312 (Bat (None, 253, 16)           64        \n",
      "_________________________________________________________________\n",
      "activation_312 (Activation)  (None, 253, 16)           0         \n",
      "_________________________________________________________________\n",
      "max_pooling1d_297 (MaxPoolin (None, 126, 16)           0         \n",
      "_________________________________________________________________\n",
      "conv1d_298 (Conv1D)          (None, 119, 64)           8256      \n",
      "_________________________________________________________________\n",
      "batch_normalization_313 (Bat (None, 119, 64)           256       \n",
      "_________________________________________________________________\n",
      "activation_313 (Activation)  (None, 119, 64)           0         \n",
      "_________________________________________________________________\n",
      "max_pooling1d_298 (MaxPoolin (None, 59, 64)            0         \n",
      "_________________________________________________________________\n",
      "conv1d_299 (Conv1D)          (None, 56, 128)           32896     \n",
      "_________________________________________________________________\n",
      "batch_normalization_314 (Bat (None, 56, 128)           512       \n",
      "_________________________________________________________________\n",
      "activation_314 (Activation)  (None, 56, 128)           0         \n",
      "_________________________________________________________________\n",
      "max_pooling1d_299 (MaxPoolin (None, 28, 128)           0         \n",
      "_________________________________________________________________\n",
      "conv1d_300 (Conv1D)          (None, 27, 256)           65792     \n",
      "_________________________________________________________________\n",
      "batch_normalization_315 (Bat (None, 27, 256)           1024      \n",
      "_________________________________________________________________\n",
      "activation_315 (Activation)  (None, 27, 256)           0         \n",
      "_________________________________________________________________\n",
      "max_pooling1d_300 (MaxPoolin (None, 13, 256)           0         \n",
      "_________________________________________________________________\n",
      "flatten_69 (Flatten)         (None, 3328)              0         \n",
      "_________________________________________________________________\n",
      "dense_205 (Dense)            (None, 64)                213056    \n",
      "_________________________________________________________________\n",
      "dropout_69 (Dropout)         (None, 64)                0         \n",
      "_________________________________________________________________\n",
      "dense_206 (Dense)            (None, 64)                4160      \n",
      "_________________________________________________________________\n",
      "dense_207 (Dense)            (None, 6)                 390       \n",
      "=================================================================\n",
      "Total params: 329,022\n",
      "Trainable params: 328,078\n",
      "Non-trainable params: 944\n",
      "_________________________________________________________________\n",
      "Train on 34470 samples, validate on 34470 samples\n",
      "Epoch 1/100\n",
      "34470/34470 [==============================] - 27s 773us/step - loss: 1.2272 - acc: 0.5735 - val_loss: 2.1855 - val_acc: 0.4013\n",
      "\n",
      "Epoch 00001: val_loss improved from inf to 2.18546, saving model to weights.hdf5\n",
      "Epoch 2/100\n",
      "34470/34470 [==============================] - 3s 78us/step - loss: 0.9671 - acc: 0.6620 - val_loss: 1.8409 - val_acc: 0.5448\n",
      "\n",
      "Epoch 00002: val_loss improved from 2.18546 to 1.84092, saving model to weights.hdf5\n",
      "Epoch 3/100\n",
      "34470/34470 [==============================] - 3s 82us/step - loss: 0.8740 - acc: 0.6968 - val_loss: 2.5125 - val_acc: 0.4791\n",
      "\n",
      "Epoch 00003: val_loss did not improve from 1.84092\n",
      "Epoch 4/100\n",
      "34470/34470 [==============================] - 3s 77us/step - loss: 0.8030 - acc: 0.7209 - val_loss: 1.9115 - val_acc: 0.5676\n",
      "\n",
      "Epoch 00004: val_loss did not improve from 1.84092\n",
      "Epoch 5/100\n",
      "34470/34470 [==============================] - 3s 80us/step - loss: 0.7673 - acc: 0.7324 - val_loss: 1.5279 - val_acc: 0.6308\n",
      "\n",
      "Epoch 00005: val_loss improved from 1.84092 to 1.52794, saving model to weights.hdf5\n",
      "Epoch 6/100\n",
      "34470/34470 [==============================] - 3s 78us/step - loss: 0.7418 - acc: 0.7441 - val_loss: 2.3845 - val_acc: 0.4716\n",
      "\n",
      "Epoch 00006: val_loss did not improve from 1.52794\n",
      "Epoch 7/100\n",
      "34470/34470 [==============================] - 3s 78us/step - loss: 0.6951 - acc: 0.7577 - val_loss: 1.2320 - val_acc: 0.6576\n",
      "\n",
      "Epoch 00007: val_loss improved from 1.52794 to 1.23201, saving model to weights.hdf5\n",
      "Epoch 8/100\n",
      "34470/34470 [==============================] - 3s 84us/step - loss: 0.6807 - acc: 0.7634 - val_loss: 0.9069 - val_acc: 0.6762\n",
      "\n",
      "Epoch 00008: val_loss improved from 1.23201 to 0.90687, saving model to weights.hdf5\n",
      "Epoch 9/100\n",
      "34470/34470 [==============================] - 3s 78us/step - loss: 0.6604 - acc: 0.7692 - val_loss: 1.5221 - val_acc: 0.6105\n",
      "\n",
      "Epoch 00009: val_loss did not improve from 0.90687\n",
      "Epoch 10/100\n",
      "34470/34470 [==============================] - 3s 82us/step - loss: 0.6358 - acc: 0.7778 - val_loss: 0.8227 - val_acc: 0.7236\n",
      "\n",
      "Epoch 00010: val_loss improved from 0.90687 to 0.82271, saving model to weights.hdf5\n",
      "Epoch 11/100\n",
      "34470/34470 [==============================] - 3s 78us/step - loss: 0.6297 - acc: 0.7797 - val_loss: 1.3765 - val_acc: 0.6294\n",
      "\n",
      "Epoch 00011: val_loss did not improve from 0.82271\n",
      "Epoch 12/100\n",
      "34470/34470 [==============================] - 3s 82us/step - loss: 0.6030 - acc: 0.7900 - val_loss: 1.1339 - val_acc: 0.6408\n",
      "\n",
      "Epoch 00012: val_loss did not improve from 0.82271\n",
      "Epoch 13/100\n",
      "34470/34470 [==============================] - 3s 78us/step - loss: 0.5874 - acc: 0.7943 - val_loss: 1.7334 - val_acc: 0.5863\n",
      "\n",
      "Epoch 00013: val_loss did not improve from 0.82271\n",
      "Epoch 14/100\n",
      "34470/34470 [==============================] - 3s 78us/step - loss: 0.5876 - acc: 0.7959 - val_loss: 0.9651 - val_acc: 0.7216\n",
      "\n",
      "Epoch 00014: val_loss did not improve from 0.82271\n",
      "Epoch 15/100\n",
      "34470/34470 [==============================] - 3s 84us/step - loss: 0.5691 - acc: 0.8023 - val_loss: 1.2484 - val_acc: 0.7955\n",
      "\n",
      "Epoch 00015: val_loss did not improve from 0.82271\n",
      "Epoch 16/100\n",
      "34470/34470 [==============================] - 3s 77us/step - loss: 0.5646 - acc: 0.8060 - val_loss: 1.2173 - val_acc: 0.6030\n",
      "\n",
      "Epoch 00016: val_loss did not improve from 0.82271\n",
      "Epoch 17/100\n",
      "34470/34470 [==============================] - 3s 84us/step - loss: 0.5304 - acc: 0.8147 - val_loss: 0.7795 - val_acc: 0.7437\n",
      "\n",
      "Epoch 00017: val_loss improved from 0.82271 to 0.77954, saving model to weights.hdf5\n",
      "Epoch 18/100\n",
      "34470/34470 [==============================] - 3s 77us/step - loss: 0.5383 - acc: 0.8083 - val_loss: 0.8112 - val_acc: 0.7532\n",
      "\n",
      "Epoch 00018: val_loss did not improve from 0.77954\n",
      "Epoch 19/100\n",
      "34470/34470 [==============================] - 3s 79us/step - loss: 0.5150 - acc: 0.8184 - val_loss: 0.5894 - val_acc: 0.8018\n",
      "\n",
      "Epoch 00019: val_loss improved from 0.77954 to 0.58940, saving model to weights.hdf5\n",
      "Epoch 20/100\n",
      "34470/34470 [==============================] - 3s 80us/step - loss: 0.5146 - acc: 0.8198 - val_loss: 0.6452 - val_acc: 0.8040\n",
      "\n",
      "Epoch 00020: val_loss did not improve from 0.58940\n",
      "Epoch 21/100\n",
      "34470/34470 [==============================] - 3s 77us/step - loss: 0.5013 - acc: 0.8225 - val_loss: 1.1897 - val_acc: 0.6819\n",
      "\n",
      "Epoch 00021: val_loss did not improve from 0.58940\n",
      "Epoch 22/100\n",
      " 4800/34470 [===>..........................] - ETA: 1s - loss: 0.4883 - acc: 0.8208"
     ]
    },
    {
     "ename": "KeyboardInterrupt",
     "evalue": "",
     "output_type": "error",
     "traceback": [
      "\u001b[0;31m---------------------------------------------------------------------------\u001b[0m",
      "\u001b[0;31mKeyboardInterrupt\u001b[0m                         Traceback (most recent call last)",
      "\u001b[0;32m<ipython-input-144-cdb033370593>\u001b[0m in \u001b[0;36m<module>\u001b[0;34m()\u001b[0m\n\u001b[1;32m    144\u001b[0m                   \u001b[0mvalidation_data\u001b[0m \u001b[0;34m=\u001b[0m \u001b[0;34m(\u001b[0m\u001b[0mX_test\u001b[0m\u001b[0;34m,\u001b[0m \u001b[0my_test\u001b[0m\u001b[0;34m)\u001b[0m\u001b[0;34m,\u001b[0m\u001b[0;34m\u001b[0m\u001b[0m\n\u001b[1;32m    145\u001b[0m                   \u001b[0mepochs\u001b[0m\u001b[0;34m=\u001b[0m\u001b[0;36m100\u001b[0m\u001b[0;34m,\u001b[0m\u001b[0;34m\u001b[0m\u001b[0m\n\u001b[0;32m--> 146\u001b[0;31m                   callbacks=callbacks)\n\u001b[0m\u001b[1;32m    147\u001b[0m \u001b[0;34m\u001b[0m\u001b[0m\n\u001b[1;32m    148\u001b[0m \u001b[0;34m\u001b[0m\u001b[0m\n",
      "\u001b[0;32m/anaconda/envs/py35/lib/python3.5/site-packages/keras/engine/training.py\u001b[0m in \u001b[0;36mfit\u001b[0;34m(self, x, y, batch_size, epochs, verbose, callbacks, validation_split, validation_data, shuffle, class_weight, sample_weight, initial_epoch, steps_per_epoch, validation_steps, **kwargs)\u001b[0m\n\u001b[1;32m   1040\u001b[0m                                         \u001b[0minitial_epoch\u001b[0m\u001b[0;34m=\u001b[0m\u001b[0minitial_epoch\u001b[0m\u001b[0;34m,\u001b[0m\u001b[0;34m\u001b[0m\u001b[0m\n\u001b[1;32m   1041\u001b[0m                                         \u001b[0msteps_per_epoch\u001b[0m\u001b[0;34m=\u001b[0m\u001b[0msteps_per_epoch\u001b[0m\u001b[0;34m,\u001b[0m\u001b[0;34m\u001b[0m\u001b[0m\n\u001b[0;32m-> 1042\u001b[0;31m                                         validation_steps=validation_steps)\n\u001b[0m\u001b[1;32m   1043\u001b[0m \u001b[0;34m\u001b[0m\u001b[0m\n\u001b[1;32m   1044\u001b[0m     def evaluate(self, x=None, y=None,\n",
      "\u001b[0;32m/anaconda/envs/py35/lib/python3.5/site-packages/keras/engine/training_arrays.py\u001b[0m in \u001b[0;36mfit_loop\u001b[0;34m(model, f, ins, out_labels, batch_size, epochs, verbose, callbacks, val_f, val_ins, shuffle, callback_metrics, initial_epoch, steps_per_epoch, validation_steps)\u001b[0m\n\u001b[1;32m    197\u001b[0m                     \u001b[0mins_batch\u001b[0m\u001b[0;34m[\u001b[0m\u001b[0mi\u001b[0m\u001b[0;34m]\u001b[0m \u001b[0;34m=\u001b[0m \u001b[0mins_batch\u001b[0m\u001b[0;34m[\u001b[0m\u001b[0mi\u001b[0m\u001b[0;34m]\u001b[0m\u001b[0;34m.\u001b[0m\u001b[0mtoarray\u001b[0m\u001b[0;34m(\u001b[0m\u001b[0;34m)\u001b[0m\u001b[0;34m\u001b[0m\u001b[0m\n\u001b[1;32m    198\u001b[0m \u001b[0;34m\u001b[0m\u001b[0m\n\u001b[0;32m--> 199\u001b[0;31m                 \u001b[0mouts\u001b[0m \u001b[0;34m=\u001b[0m \u001b[0mf\u001b[0m\u001b[0;34m(\u001b[0m\u001b[0mins_batch\u001b[0m\u001b[0;34m)\u001b[0m\u001b[0;34m\u001b[0m\u001b[0m\n\u001b[0m\u001b[1;32m    200\u001b[0m                 \u001b[0;32mif\u001b[0m \u001b[0;32mnot\u001b[0m \u001b[0misinstance\u001b[0m\u001b[0;34m(\u001b[0m\u001b[0mouts\u001b[0m\u001b[0;34m,\u001b[0m \u001b[0mlist\u001b[0m\u001b[0;34m)\u001b[0m\u001b[0;34m:\u001b[0m\u001b[0;34m\u001b[0m\u001b[0m\n\u001b[1;32m    201\u001b[0m                     \u001b[0mouts\u001b[0m \u001b[0;34m=\u001b[0m \u001b[0;34m[\u001b[0m\u001b[0mouts\u001b[0m\u001b[0;34m]\u001b[0m\u001b[0;34m\u001b[0m\u001b[0m\n",
      "\u001b[0;32m/anaconda/envs/py35/lib/python3.5/site-packages/keras/backend/tensorflow_backend.py\u001b[0m in \u001b[0;36m__call__\u001b[0;34m(self, inputs)\u001b[0m\n\u001b[1;32m   2659\u001b[0m                 \u001b[0;32mreturn\u001b[0m \u001b[0mself\u001b[0m\u001b[0;34m.\u001b[0m\u001b[0m_legacy_call\u001b[0m\u001b[0;34m(\u001b[0m\u001b[0minputs\u001b[0m\u001b[0;34m)\u001b[0m\u001b[0;34m\u001b[0m\u001b[0m\n\u001b[1;32m   2660\u001b[0m \u001b[0;34m\u001b[0m\u001b[0m\n\u001b[0;32m-> 2661\u001b[0;31m             \u001b[0;32mreturn\u001b[0m \u001b[0mself\u001b[0m\u001b[0;34m.\u001b[0m\u001b[0m_call\u001b[0m\u001b[0;34m(\u001b[0m\u001b[0minputs\u001b[0m\u001b[0;34m)\u001b[0m\u001b[0;34m\u001b[0m\u001b[0m\n\u001b[0m\u001b[1;32m   2662\u001b[0m         \u001b[0;32melse\u001b[0m\u001b[0;34m:\u001b[0m\u001b[0;34m\u001b[0m\u001b[0m\n\u001b[1;32m   2663\u001b[0m             \u001b[0;32mif\u001b[0m \u001b[0mpy_any\u001b[0m\u001b[0;34m(\u001b[0m\u001b[0mis_tensor\u001b[0m\u001b[0;34m(\u001b[0m\u001b[0mx\u001b[0m\u001b[0;34m)\u001b[0m \u001b[0;32mfor\u001b[0m \u001b[0mx\u001b[0m \u001b[0;32min\u001b[0m \u001b[0minputs\u001b[0m\u001b[0;34m)\u001b[0m\u001b[0;34m:\u001b[0m\u001b[0;34m\u001b[0m\u001b[0m\n",
      "\u001b[0;32m/anaconda/envs/py35/lib/python3.5/site-packages/keras/backend/tensorflow_backend.py\u001b[0m in \u001b[0;36m_call\u001b[0;34m(self, inputs)\u001b[0m\n\u001b[1;32m   2629\u001b[0m                                 \u001b[0msymbol_vals\u001b[0m\u001b[0;34m,\u001b[0m\u001b[0;34m\u001b[0m\u001b[0m\n\u001b[1;32m   2630\u001b[0m                                 session)\n\u001b[0;32m-> 2631\u001b[0;31m         \u001b[0mfetched\u001b[0m \u001b[0;34m=\u001b[0m \u001b[0mself\u001b[0m\u001b[0;34m.\u001b[0m\u001b[0m_callable_fn\u001b[0m\u001b[0;34m(\u001b[0m\u001b[0;34m*\u001b[0m\u001b[0marray_vals\u001b[0m\u001b[0;34m)\u001b[0m\u001b[0;34m\u001b[0m\u001b[0m\n\u001b[0m\u001b[1;32m   2632\u001b[0m         \u001b[0;32mreturn\u001b[0m \u001b[0mfetched\u001b[0m\u001b[0;34m[\u001b[0m\u001b[0;34m:\u001b[0m\u001b[0mlen\u001b[0m\u001b[0;34m(\u001b[0m\u001b[0mself\u001b[0m\u001b[0;34m.\u001b[0m\u001b[0moutputs\u001b[0m\u001b[0;34m)\u001b[0m\u001b[0;34m]\u001b[0m\u001b[0;34m\u001b[0m\u001b[0m\n\u001b[1;32m   2633\u001b[0m \u001b[0;34m\u001b[0m\u001b[0m\n",
      "\u001b[0;32m~/.local/lib/python3.5/site-packages/tensorflow/python/client/session.py\u001b[0m in \u001b[0;36m__call__\u001b[0;34m(self, *args)\u001b[0m\n\u001b[1;32m   1449\u001b[0m         \u001b[0;32mif\u001b[0m \u001b[0mself\u001b[0m\u001b[0;34m.\u001b[0m\u001b[0m_session\u001b[0m\u001b[0;34m.\u001b[0m\u001b[0m_created_with_new_api\u001b[0m\u001b[0;34m:\u001b[0m\u001b[0;34m\u001b[0m\u001b[0m\n\u001b[1;32m   1450\u001b[0m           return tf_session.TF_SessionRunCallable(\n\u001b[0;32m-> 1451\u001b[0;31m               self._session._session, self._handle, args, status, None)\n\u001b[0m\u001b[1;32m   1452\u001b[0m         \u001b[0;32melse\u001b[0m\u001b[0;34m:\u001b[0m\u001b[0;34m\u001b[0m\u001b[0m\n\u001b[1;32m   1453\u001b[0m           return tf_session.TF_DeprecatedSessionRunCallable(\n",
      "\u001b[0;31mKeyboardInterrupt\u001b[0m: "
     ]
    }
   ],
   "source": [
    "selected_model = 'CNN1'\n",
    "\n",
    "dl_models = ['CNN1', 'MLP_Raw', 'RNN1', 'CNN2', 'RNN2']\n",
    "#LOO-Validation on each subject\n",
    "if selected_model in dl_models:\n",
    "    X = X_raw\n",
    "    y = y_raw\n",
    "    s = s_raw\n",
    "else:\n",
    "    X = X_prep\n",
    "    y = y_prep\n",
    "    s = s_prep\n",
    "\n",
    "    \n",
    "batch_size = 400\n",
    "n_classes = 6\n",
    "    \n",
    "subject_list = np.unique(s_raw)\n",
    "y_test_all = []\n",
    "y_pred_all = []\n",
    "y_pred_all_post = []\n",
    "np.random.seed(44)\n",
    "iterations = shuffle(np.array(list(itertools.combinations(subject_list, 2))))\n",
    "\n",
    "it_index = iterations[:50]\n",
    "i = 0\n",
    "for subject in it_index[:1]: # two combination of tested subjects\n",
    "    if os.path.exists('weights.hdf5'):\n",
    "        os.remove('weights.hdf5')\n",
    "    i += 1 \n",
    "    subject[0] = '1111'\n",
    "    subject[1] = '2222'\n",
    "    X_test = X_raw\n",
    "    y_test = y_raw\n",
    "    print(\"=====================>\", i)\n",
    "    print('Model tested on subjects with no : ', subject)\n",
    "    mask_test = np.logical_or(s==subject[0], s== subject[1])\n",
    "    mask_training = np.logical_and(s!=subject[0], s!= subject[1])\n",
    "    \n",
    "    if not selected_model in dl_models : # Models will train on processed features\n",
    "        \n",
    "        X_test = X[np.ravel(mask_test),:]\n",
    "        y_test = np.ravel(y[np.ravel(mask_test),:] -1)\n",
    "        X_training = X[np.ravel(mask_training),:]\n",
    "        y_training = np.ravel(y[np.ravel(mask_training),:] -1)\n",
    "        print(\"Test set and training set proportion : \",float(X_test.shape[0])/X_training.shape[0] )\n",
    "        class_weight = get_class_weights(y_training)\n",
    "        \n",
    "        if selected_model == \"LogReg\":\n",
    "            model = LogisticRegression(class_weight = class_weight, penalty='l1')\n",
    "        elif selected_model == \"SVM\":\n",
    "            model = svm.SVC( class_weight = class_weight, probability=True)\n",
    "        elif selected_model == 'RForest':\n",
    "            model = RandomForestClassifier(max_depth=10, n_estimators=20, class_weight=class_weight)\n",
    "        \n",
    "        model.fit(X_training, y_training)\n",
    "        y_pred = model.predict(X_test)\n",
    "        y_score = model.predict_proba(X_test)\n",
    "    else: # Models will train on raw data\n",
    "#         X_test = X[np.ravel(mask_test)]\n",
    "#         y_test = np.ravel(y[np.ravel(mask_test)] -1)\n",
    "        X_training = X[np.ravel(mask_training)]\n",
    "        y_training = np.ravel(y[np.ravel(mask_training)] -1)\n",
    "        # convert class vectors to binary class matrices\n",
    "        y_training = one_hot(y_training)\n",
    "        y_test = one_hot(y_test -1)\n",
    "    \n",
    "        print(\"Test set and training set proportion : \",float(X_test.shape[0])/X_training.shape[0] )\n",
    "        \n",
    "    \n",
    "        callbacks = [keras.callbacks.EarlyStopping(monitor='val_loss',\n",
    "                              min_delta=0,\n",
    "                              patience=25,\n",
    "                              verbose=0, mode='auto'),\n",
    "            keras.callbacks.ModelCheckpoint(filepath=\"weights.hdf5\", verbose=1, save_best_only=True)]\n",
    "        \n",
    "        X_training = keras.preprocessing.sequence.pad_sequences(X_training, maxlen=100, dtype='float32',\n",
    "            padding='pre', truncating='pre', value=0.)\n",
    "        X_test = keras.preprocessing.sequence.pad_sequences(X_test, maxlen=100, dtype='float32',\n",
    "            padding='pre', truncating='pre', value=0.)\n",
    "        \n",
    "        \n",
    "        \n",
    "        if selected_model =='CNN1':\n",
    "            train_shape = X_training.shape\n",
    "            test_shape = X_test.shape\n",
    "            X_training = X_training.reshape(train_shape[0], -1,1)\n",
    "            X_test = X_test.reshape(test_shape[0], -1,1)\n",
    "            timesteps = len(X_training[0])\n",
    "            model = CNN1()\n",
    "        elif selected_model =='CNN2':\n",
    "            train_shape = X_training.shape\n",
    "            test_shape = X_test.shape\n",
    "            X_training = X_training.reshape(train_shape+(1,))\n",
    "            X_test = X_test.reshape(test_shape+ (1,))\n",
    "            timesteps = len(X_training[0])\n",
    "            model = CNN2()\n",
    "        elif selected_model =='RNN1':\n",
    "            train_shape = X_training.shape\n",
    "            test_shape = X_test.shape\n",
    "            X_training = X_training.reshape(train_shape[0], -1,1)\n",
    "            X_test = X_test.reshape(test_shape[0], -1,1)\n",
    "            timesteps = len(X_training[0])\n",
    "            model = RNN1()\n",
    "        elif selected_model =='RNN2':\n",
    "            train_shape = X_training.shape\n",
    "            test_shape = X_test.shape\n",
    "            X_training = X_training.reshape(train_shape+(1,))\n",
    "            X_test = X_test.reshape(test_shape+ (1,))\n",
    "            timesteps = len(X_training[0])\n",
    "            model = RNN2()\n",
    "        elif selected_model =='MLP_Raw':\n",
    "            \n",
    "            train_shape = X_training.shape\n",
    "            test_shape = X_test.shape\n",
    "            X_training = X_training.reshape(train_shape[0], -1)\n",
    "            X_test = X_test.reshape(test_shape[0], -1)\n",
    "            timesteps = len(X_training[0])\n",
    "            model = MLP()\n",
    "            \n",
    "        elif selected_model =='MLP_Features':\n",
    "            X_test = X[np.ravel(mask_test),:]\n",
    "            y_test = np.ravel(y[np.ravel(mask_test),:] -1)\n",
    "            X_training = X[np.ravel(mask_training),:]\n",
    "            y_training = np.ravel(y[np.ravel(mask_training),:] -1)\n",
    "            \n",
    "            \n",
    "            train_shape = X_training.shape\n",
    "            test_shape = X_test.shape\n",
    "            X_train = X_train.reshape(train_shape[0], -1)\n",
    "            X_test = X_test.reshape(test_shape[0], -1)\n",
    "            timesteps = len(X_training[0])\n",
    "            model = MLP()\n",
    "            \n",
    "        # Compile model\n",
    "#         multi_model = multi_gpu_model(model = model, gpus = 1)\n",
    "        sgd = keras.optimizers.SGD(lr=0.01, clipnorm=1., decay=0.005)\n",
    "        model.compile(loss=w_categorical_crossentropy,\n",
    "                  optimizer='rmsprop',\n",
    "                  metrics=['accuracy'])\n",
    "        history =model.fit(X_training,\n",
    "                  y_training,\n",
    "                  batch_size=batch_size,\n",
    "                  validation_data = (X_test, y_test),\n",
    "                  epochs=100,\n",
    "                  callbacks=callbacks)\n",
    "        \n",
    "        \n",
    "        model.load_weights('weights.hdf5')\n",
    "        y_score = model.predict_proba(X_test)\n",
    "        print(\"\")\n",
    "        \n",
    "    y_pred_all.extend(np.argmax(y_score, axis=1))\n",
    "    y_test_all.extend(list(np.argmax(y_test, axis=1)))\n",
    "    y_pred_all_post.extend(list(np.argmax(pd.rolling_mean(y_score, 50,min_periods=1), axis=1)))\n",
    "    '''plt.figure()\n",
    "    plt.plot(pd.rolling_mean( y_score, 50,min_periods=1), \"-\")\n",
    "    plt.xlim([0, 1.5*len(y_score)])\n",
    "    plt.legend(['walking',\n",
    "            'walking upstairs',\n",
    "            'walking downstairs',\n",
    "            'resting',\n",
    "            'standing''], loc='upper_left')\n",
    "    a = np.asarray(y_test).astype(np.int)\n",
    "    y_ticks = np.asarray(['walking',\n",
    "            'walking upstairs',\n",
    "            'walking downstairs',\n",
    "            'resting',\n",
    "            'standing'])[a]\n",
    "    plt.plot(y_ticks)\n",
    "    plt.xlim([0, 1.5*len(y_score)])'''\n",
    "#     plt.savefig('Figures/'+str(subject[0])+'_'+str(subject[1])+'.png')"
   ]
  },
  {
   "cell_type": "code",
   "execution_count": 138,
   "metadata": {},
   "outputs": [
    {
     "data": {
      "image/png": "[encoded data removed]",
      "text/plain": [
       "<matplotlib.figure.Figure at 0x7fc50fd6b0b8>"
      ]
     },
     "metadata": {},
     "output_type": "display_data"
    }
   ],
   "source": [
    "# summarize history for accuracy\n",
    "plt.plot(history.history['acc'])\n",
    "plt.plot(history.history['val_acc'])\n",
    "plt.title('model accuracy')\n",
    "plt.ylabel('accuracy')\n",
    "plt.xlabel('epoch')\n",
    "plt.legend(['train', 'test'], loc='upper left')\n",
    "plt.show()"
   ]
  },
  {
   "cell_type": "code",
   "execution_count": 139,
   "metadata": {},
   "outputs": [
    {
     "data": {
      "image/png": "[encoded data removed]",
      "text/plain": [
       "<matplotlib.figure.Figure at 0x7fc50fd717b8>"
      ]
     },
     "metadata": {},
     "output_type": "display_data"
    }
   ],
   "source": [
    "# summarize history for loss\n",
    "plt.plot(history.history['loss'])\n",
    "plt.plot(history.history['val_loss'])\n",
    "plt.title('model loss')\n",
    "plt.ylabel('loss')\n",
    "plt.xlabel('epoch')\n",
    "plt.legend(['train', 'test'], loc='upper left')\n",
    "plt.show()"
   ]
  },
  {
   "cell_type": "code",
   "execution_count": 140,
   "metadata": {
    "collapsed": true
   },
   "outputs": [
    {
     "name": "stdout",
     "output_type": "stream",
     "text": [
      "Confusion matrix, without normalization\n"
     ]
    },
    {
     "data": {
      "image/png": "[encoded data removed]",
      "text/plain": [
       "<matplotlib.figure.Figure at 0x7fc4b51c9080>"
      ]
     },
     "metadata": {},
     "output_type": "display_data"
    },
    {
     "name": "stdout",
     "output_type": "stream",
     "text": [
      "Normalized confusion matrix\n"
     ]
    },
    {
     "data": {
      "image/png": "[encoded data removed]",
      "text/plain": [
       "<matplotlib.figure.Figure at 0x7fc4b51abb70>"
      ]
     },
     "metadata": {},
     "output_type": "display_data"
    },
    {
     "data": {
      "text/plain": [
       "<matplotlib.figure.Figure at 0x7fc4b5188ef0>"
      ]
     },
     "metadata": {},
     "output_type": "display_data"
    }
   ],
   "source": [
    "label_dict = {1:'walking',\n",
    "             2:'walking_upstairs',\n",
    "             3:'walking_downstairs',\n",
    "             4:'sitting',\n",
    "             5:'standing',\n",
    "             6:'lying'}\n",
    "class_names = list(label_dict.values())\n",
    "\n",
    "\n",
    "cnf_matrix = confusion_matrix(y_test_all, y_pred_all_post)\n",
    "np.set_printoptions(precision=2)\n",
    "\n",
    "save_with_name = selected_model\n",
    "# Plot non-normalized confusion matrix\n",
    "plt.figure()\n",
    "plot_cm(cnf_matrix, class_names, normalize=False)\n",
    "\n",
    "# Plot normalized confusion matrix\n",
    "plt.figure()\n",
    "plot_cm(cnf_matrix, class_names, normalize=True)\n",
    "plt.savefig(save_with_name+'.png')\n",
    "plt.show()"
   ]
  },
  {
   "cell_type": "code",
   "execution_count": 130,
   "metadata": {},
   "outputs": [
    {
     "name": "stdout",
     "output_type": "stream",
     "text": [
      "Overall accuracy of the Model 0.7188883423512051\n"
     ]
    }
   ],
   "source": [
    "true_pos = np.diag(cnf_matrix).sum()\n",
    "accuracy = true_pos/float(cnf_matrix.sum())\n",
    "print('Overall accuracy of the Model', accuracy)"
   ]
  },
  {
   "cell_type": "code",
   "execution_count": null,
   "metadata": {},
   "outputs": [],
   "source": [
    "from sklearn.metrics import classification_report\n",
    "print(classification_report(y_test_all, y_pred_all_post,target_names=class_names))"
   ]
  },
  {
   "cell_type": "code",
   "execution_count": null,
   "metadata": {},
   "outputs": [],
   "source": [
    "auc_roc_plot(one_hot(np.array(y_test_all)), np.array(y_score_all), None)"
   ]
  },
  {
   "cell_type": "code",
   "execution_count": null,
   "metadata": {},
   "outputs": [],
   "source": []
  }
 ],
 "metadata": {
  "anaconda-cloud": {},
  "kernelspec": {
   "display_name": "Python 3",
   "language": "python",
   "name": "python3"
  },
  "language_info": {
   "codemirror_mode": {
    "name": "ipython",
    "version": 3
   },
   "file_extension": ".py",
   "mimetype": "text/x-python",
   "name": "python",
   "nbconvert_exporter": "python",
   "pygments_lexer": "ipython3",
   "version": "3.5.4"
  }
 },
 "nbformat": 4,
 "nbformat_minor": 2
}
