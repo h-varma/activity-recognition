{
 "cells": [
  {
   "cell_type": "code",
   "execution_count": 1,
   "metadata": {
    "scrolled": true
   },
   "outputs": [
    {
     "name": "stderr",
     "output_type": "stream",
     "text": [
      "/anaconda/envs/py35/lib/python3.5/site-packages/h5py/__init__.py:36: FutureWarning: Conversion of the second argument of issubdtype from `float` to `np.floating` is deprecated. In future, it will be treated as `np.float64 == np.dtype(float).type`.\n",
      "  from ._conv import register_converters as _register_converters\n",
      "Using TensorFlow backend.\n"
     ]
    },
    {
     "name": "stdout",
     "output_type": "stream",
     "text": [
      "_________________________________________________________________\n",
      "Layer (type)                 Output Shape              Param #   \n",
      "=================================================================\n",
      "conv1d_1 (Conv1D)            (None, 537, 8)            520       \n",
      "_________________________________________________________________\n",
      "batch_normalization_1 (Batch (None, 537, 8)            32        \n",
      "_________________________________________________________________\n",
      "activation_1 (Activation)    (None, 537, 8)            0         \n",
      "_________________________________________________________________\n",
      "max_pooling1d_1 (MaxPooling1 (None, 268, 8)            0         \n",
      "_________________________________________________________________\n",
      "conv1d_2 (Conv1D)            (None, 253, 16)           2064      \n",
      "_________________________________________________________________\n",
      "batch_normalization_2 (Batch (None, 253, 16)           64        \n",
      "_________________________________________________________________\n",
      "activation_2 (Activation)    (None, 253, 16)           0         \n",
      "_________________________________________________________________\n",
      "max_pooling1d_2 (MaxPooling1 (None, 126, 16)           0         \n",
      "_________________________________________________________________\n",
      "conv1d_3 (Conv1D)            (None, 119, 64)           8256      \n",
      "_________________________________________________________________\n",
      "batch_normalization_3 (Batch (None, 119, 64)           256       \n",
      "_________________________________________________________________\n",
      "activation_3 (Activation)    (None, 119, 64)           0         \n",
      "_________________________________________________________________\n",
      "max_pooling1d_3 (MaxPooling1 (None, 59, 64)            0         \n",
      "_________________________________________________________________\n",
      "conv1d_4 (Conv1D)            (None, 56, 128)           32896     \n",
      "_________________________________________________________________\n",
      "batch_normalization_4 (Batch (None, 56, 128)           512       \n",
      "_________________________________________________________________\n",
      "activation_4 (Activation)    (None, 56, 128)           0         \n",
      "_________________________________________________________________\n",
      "max_pooling1d_4 (MaxPooling1 (None, 28, 128)           0         \n",
      "_________________________________________________________________\n",
      "conv1d_5 (Conv1D)            (None, 27, 256)           65792     \n",
      "_________________________________________________________________\n",
      "batch_normalization_5 (Batch (None, 27, 256)           1024      \n",
      "_________________________________________________________________\n",
      "activation_5 (Activation)    (None, 27, 256)           0         \n",
      "_________________________________________________________________\n",
      "max_pooling1d_5 (MaxPooling1 (None, 13, 256)           0         \n",
      "_________________________________________________________________\n",
      "flatten_1 (Flatten)          (None, 3328)              0         \n",
      "_________________________________________________________________\n",
      "dense_1 (Dense)              (None, 64)                213056    \n",
      "_________________________________________________________________\n",
      "dropout_1 (Dropout)          (None, 64)                0         \n",
      "_________________________________________________________________\n",
      "dense_2 (Dense)              (None, 64)                4160      \n",
      "_________________________________________________________________\n",
      "dense_3 (Dense)              (None, 6)                 390       \n",
      "=================================================================\n",
      "Total params: 329,022\n",
      "Trainable params: 328,078\n",
      "Non-trainable params: 944\n",
      "_________________________________________________________________\n"
     ]
    },
    {
     "data": {
      "text/plain": [
       "Every 1 day at 00:01:00 do do_recognition() (last run: [never], next run: 2018-07-31 00:01:00)"
      ]
     },
     "execution_count": 1,
     "metadata": {},
     "output_type": "execute_result"
    }
   ],
   "source": [
    "\n",
    "\n",
    "import keras\n",
    "from keras import backend as K\n",
    "import tensorflow as tf\n",
    "sess = tf.InteractiveSession()\n",
    "from keras.models import Sequential\n",
    "from keras.layers import Dense, Dropout, Activation,Flatten, Reshape, BatchNormalization\n",
    "from keras.layers import LSTM,GRU\n",
    "from keras.preprocessing import sequence\n",
    "from keras.layers import Conv1D, MaxPooling1D, GlobalAveragePooling1D, Conv2D, AveragePooling1D, MaxPooling2D\n",
    "from keras.models import Model\n",
    "\n",
    "from activity_recognition import do_recognition\n",
    "import schedule\n",
    "\n",
    "import time\n",
    "\n",
    "\n",
    "schedule.clear()\n",
    "schedule.every().day.at(\"00:01\").do(do_recognition)\n",
    "\n"
   ]
  },
  {
   "cell_type": "code",
   "execution_count": null,
   "metadata": {},
   "outputs": [],
   "source": [
    "while True:\n",
    "    try:\n",
    "        schedule.run_pending()\n",
    "        time.sleep(60)\n",
    "    except:\n",
    "        error = \"something happened\"\n",
    "        continue\n",
    "\n",
    "  "
   ]
  },
  {
   "cell_type": "code",
   "execution_count": null,
   "metadata": {},
   "outputs": [],
   "source": []
  }
 ],
 "metadata": {
  "anaconda-cloud": {},
  "kernelspec": {
   "display_name": "Python 3",
   "language": "python",
   "name": "python3"
  },
  "language_info": {
   "codemirror_mode": {
    "name": "ipython",
    "version": 3
   },
   "file_extension": ".py",
   "mimetype": "text/x-python",
   "name": "python",
   "nbconvert_exporter": "python",
   "pygments_lexer": "ipython3",
   "version": "3.5.4"
  }
 },
 "nbformat": 4,
 "nbformat_minor": 2
}
